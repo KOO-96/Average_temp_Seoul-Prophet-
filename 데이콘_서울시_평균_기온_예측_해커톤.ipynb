{
  "nbformat": 4,
  "nbformat_minor": 0,
  "metadata": {
    "colab": {
      "provenance": [],
      "authorship_tag": "ABX9TyPXl7+AFeEyjBP5tu/dVQsz",
      "include_colab_link": true
    },
    "kernelspec": {
      "name": "python3",
      "display_name": "Python 3"
    },
    "language_info": {
      "name": "python"
    }
  },
  "cells": [
    {
      "cell_type": "markdown",
      "metadata": {
        "id": "view-in-github",
        "colab_type": "text"
      },
      "source": [
        "<a href=\"https://colab.research.google.com/github/KOO-96/Average_temp_Seoul-Prophet-/blob/main/%EB%8D%B0%EC%9D%B4%EC%BD%98_%EC%84%9C%EC%9A%B8%EC%8B%9C_%ED%8F%89%EA%B7%A0_%EA%B8%B0%EC%98%A8_%EC%98%88%EC%B8%A1_%ED%95%B4%EC%BB%A4%ED%86%A4.ipynb\" target=\"_parent\"><img src=\"https://colab.research.google.com/assets/colab-badge.svg\" alt=\"Open In Colab\"/></a>"
      ]
    },
    {
      "cell_type": "code",
      "execution_count": null,
      "metadata": {
        "id": "LVlC0volAHoa"
      },
      "outputs": [],
      "source": [
        "!sudo apt-get install -y fonts-nanum\n",
        "!sudo fc-cache -fv]\n",
        "!rm ~/.cache/matplotlib -rf"
      ]
    },
    {
      "cell_type": "markdown",
      "source": [
        "# Library"
      ],
      "metadata": {
        "id": "TFjDR7cPAe38"
      }
    },
    {
      "cell_type": "code",
      "source": [
        "import pandas as pd\n",
        "from prophet import Prophet\n",
        "import matplotlib.pyplot as plt\n",
        "import seaborn as sns\n",
        "import datetime\n",
        "from prophet.diagnostics import cross_validation, performance_metrics\n",
        "\n",
        "plt.rc('font', family = 'NanumBarunGothic')"
      ],
      "metadata": {
        "id": "4ayAC4tnAdIL"
      },
      "execution_count": 2,
      "outputs": []
    },
    {
      "cell_type": "code",
      "source": [
        "from google.colab import drive\n",
        "drive.mount('/content/drive')"
      ],
      "metadata": {
        "colab": {
          "base_uri": "https://localhost:8080/"
        },
        "id": "_WAAuFyvAdLx",
        "outputId": "7b0e9bae-215a-44b0-b6af-5fb7aaa7b507"
      },
      "execution_count": 3,
      "outputs": [
        {
          "output_type": "stream",
          "name": "stdout",
          "text": [
            "Mounted at /content/drive\n"
          ]
        }
      ]
    },
    {
      "cell_type": "markdown",
      "source": [
        "# Load"
      ],
      "metadata": {
        "id": "xg9BZANIBDcH"
      }
    },
    {
      "cell_type": "code",
      "source": [
        "train = pd.read_csv('/content/drive/MyDrive/기온/train.csv')\n",
        "submission = pd.read_csv('/content/drive/MyDrive/기온/sample_submission.csv')"
      ],
      "metadata": {
        "id": "tpKZmbAgBCxb"
      },
      "execution_count": 4,
      "outputs": []
    },
    {
      "cell_type": "code",
      "source": [
        "train.head()"
      ],
      "metadata": {
        "colab": {
          "base_uri": "https://localhost:8080/",
          "height": 206
        },
        "id": "fTFcyGMJAdPV",
        "outputId": "983dde91-c57c-46e4-89c3-11a2bedbce09"
      },
      "execution_count": 28,
      "outputs": [
        {
          "output_type": "execute_result",
          "data": {
            "text/plain": [
              "          ds  최고기온  최저기온   일교차  강수량  평균습도  평균풍속  일조합   일사합   일조율    y\n",
              "0 1960-01-01   2.2  -5.2   7.4  0.4  68.3   1.7  6.7  4.81  28.1 -1.6\n",
              "1 1960-01-02   1.2  -5.6   6.8  0.4  87.7   1.3  0.0  4.81  28.1 -1.9\n",
              "2 1960-01-03   8.7  -2.1  10.8  0.0  81.3   3.0  0.0  4.81  28.1  4.0\n",
              "3 1960-01-04  10.8   1.2   9.6  0.0  79.7   4.4  2.6  4.81  28.1  7.5\n",
              "4 1960-01-05   1.3  -8.2   9.5  0.0  44.0   5.1  8.2  4.81  28.1 -4.6"
            ],
            "text/html": [
              "\n",
              "  <div id=\"df-e06c56e6-79dc-4bd6-b58d-1590e8a3a1da\" class=\"colab-df-container\">\n",
              "    <div>\n",
              "<style scoped>\n",
              "    .dataframe tbody tr th:only-of-type {\n",
              "        vertical-align: middle;\n",
              "    }\n",
              "\n",
              "    .dataframe tbody tr th {\n",
              "        vertical-align: top;\n",
              "    }\n",
              "\n",
              "    .dataframe thead th {\n",
              "        text-align: right;\n",
              "    }\n",
              "</style>\n",
              "<table border=\"1\" class=\"dataframe\">\n",
              "  <thead>\n",
              "    <tr style=\"text-align: right;\">\n",
              "      <th></th>\n",
              "      <th>ds</th>\n",
              "      <th>최고기온</th>\n",
              "      <th>최저기온</th>\n",
              "      <th>일교차</th>\n",
              "      <th>강수량</th>\n",
              "      <th>평균습도</th>\n",
              "      <th>평균풍속</th>\n",
              "      <th>일조합</th>\n",
              "      <th>일사합</th>\n",
              "      <th>일조율</th>\n",
              "      <th>y</th>\n",
              "    </tr>\n",
              "  </thead>\n",
              "  <tbody>\n",
              "    <tr>\n",
              "      <th>0</th>\n",
              "      <td>1960-01-01</td>\n",
              "      <td>2.2</td>\n",
              "      <td>-5.2</td>\n",
              "      <td>7.4</td>\n",
              "      <td>0.4</td>\n",
              "      <td>68.3</td>\n",
              "      <td>1.7</td>\n",
              "      <td>6.7</td>\n",
              "      <td>4.81</td>\n",
              "      <td>28.1</td>\n",
              "      <td>-1.6</td>\n",
              "    </tr>\n",
              "    <tr>\n",
              "      <th>1</th>\n",
              "      <td>1960-01-02</td>\n",
              "      <td>1.2</td>\n",
              "      <td>-5.6</td>\n",
              "      <td>6.8</td>\n",
              "      <td>0.4</td>\n",
              "      <td>87.7</td>\n",
              "      <td>1.3</td>\n",
              "      <td>0.0</td>\n",
              "      <td>4.81</td>\n",
              "      <td>28.1</td>\n",
              "      <td>-1.9</td>\n",
              "    </tr>\n",
              "    <tr>\n",
              "      <th>2</th>\n",
              "      <td>1960-01-03</td>\n",
              "      <td>8.7</td>\n",
              "      <td>-2.1</td>\n",
              "      <td>10.8</td>\n",
              "      <td>0.0</td>\n",
              "      <td>81.3</td>\n",
              "      <td>3.0</td>\n",
              "      <td>0.0</td>\n",
              "      <td>4.81</td>\n",
              "      <td>28.1</td>\n",
              "      <td>4.0</td>\n",
              "    </tr>\n",
              "    <tr>\n",
              "      <th>3</th>\n",
              "      <td>1960-01-04</td>\n",
              "      <td>10.8</td>\n",
              "      <td>1.2</td>\n",
              "      <td>9.6</td>\n",
              "      <td>0.0</td>\n",
              "      <td>79.7</td>\n",
              "      <td>4.4</td>\n",
              "      <td>2.6</td>\n",
              "      <td>4.81</td>\n",
              "      <td>28.1</td>\n",
              "      <td>7.5</td>\n",
              "    </tr>\n",
              "    <tr>\n",
              "      <th>4</th>\n",
              "      <td>1960-01-05</td>\n",
              "      <td>1.3</td>\n",
              "      <td>-8.2</td>\n",
              "      <td>9.5</td>\n",
              "      <td>0.0</td>\n",
              "      <td>44.0</td>\n",
              "      <td>5.1</td>\n",
              "      <td>8.2</td>\n",
              "      <td>4.81</td>\n",
              "      <td>28.1</td>\n",
              "      <td>-4.6</td>\n",
              "    </tr>\n",
              "  </tbody>\n",
              "</table>\n",
              "</div>\n",
              "    <div class=\"colab-df-buttons\">\n",
              "\n",
              "  <div class=\"colab-df-container\">\n",
              "    <button class=\"colab-df-convert\" onclick=\"convertToInteractive('df-e06c56e6-79dc-4bd6-b58d-1590e8a3a1da')\"\n",
              "            title=\"Convert this dataframe to an interactive table.\"\n",
              "            style=\"display:none;\">\n",
              "\n",
              "  <svg xmlns=\"http://www.w3.org/2000/svg\" height=\"24px\" viewBox=\"0 -960 960 960\">\n",
              "    <path d=\"M120-120v-720h720v720H120Zm60-500h600v-160H180v160Zm220 220h160v-160H400v160Zm0 220h160v-160H400v160ZM180-400h160v-160H180v160Zm440 0h160v-160H620v160ZM180-180h160v-160H180v160Zm440 0h160v-160H620v160Z\"/>\n",
              "  </svg>\n",
              "    </button>\n",
              "\n",
              "  <style>\n",
              "    .colab-df-container {\n",
              "      display:flex;\n",
              "      gap: 12px;\n",
              "    }\n",
              "\n",
              "    .colab-df-convert {\n",
              "      background-color: #E8F0FE;\n",
              "      border: none;\n",
              "      border-radius: 50%;\n",
              "      cursor: pointer;\n",
              "      display: none;\n",
              "      fill: #1967D2;\n",
              "      height: 32px;\n",
              "      padding: 0 0 0 0;\n",
              "      width: 32px;\n",
              "    }\n",
              "\n",
              "    .colab-df-convert:hover {\n",
              "      background-color: #E2EBFA;\n",
              "      box-shadow: 0px 1px 2px rgba(60, 64, 67, 0.3), 0px 1px 3px 1px rgba(60, 64, 67, 0.15);\n",
              "      fill: #174EA6;\n",
              "    }\n",
              "\n",
              "    .colab-df-buttons div {\n",
              "      margin-bottom: 4px;\n",
              "    }\n",
              "\n",
              "    [theme=dark] .colab-df-convert {\n",
              "      background-color: #3B4455;\n",
              "      fill: #D2E3FC;\n",
              "    }\n",
              "\n",
              "    [theme=dark] .colab-df-convert:hover {\n",
              "      background-color: #434B5C;\n",
              "      box-shadow: 0px 1px 3px 1px rgba(0, 0, 0, 0.15);\n",
              "      filter: drop-shadow(0px 1px 2px rgba(0, 0, 0, 0.3));\n",
              "      fill: #FFFFFF;\n",
              "    }\n",
              "  </style>\n",
              "\n",
              "    <script>\n",
              "      const buttonEl =\n",
              "        document.querySelector('#df-e06c56e6-79dc-4bd6-b58d-1590e8a3a1da button.colab-df-convert');\n",
              "      buttonEl.style.display =\n",
              "        google.colab.kernel.accessAllowed ? 'block' : 'none';\n",
              "\n",
              "      async function convertToInteractive(key) {\n",
              "        const element = document.querySelector('#df-e06c56e6-79dc-4bd6-b58d-1590e8a3a1da');\n",
              "        const dataTable =\n",
              "          await google.colab.kernel.invokeFunction('convertToInteractive',\n",
              "                                                    [key], {});\n",
              "        if (!dataTable) return;\n",
              "\n",
              "        const docLinkHtml = 'Like what you see? Visit the ' +\n",
              "          '<a target=\"_blank\" href=https://colab.research.google.com/notebooks/data_table.ipynb>data table notebook</a>'\n",
              "          + ' to learn more about interactive tables.';\n",
              "        element.innerHTML = '';\n",
              "        dataTable['output_type'] = 'display_data';\n",
              "        await google.colab.output.renderOutput(dataTable, element);\n",
              "        const docLink = document.createElement('div');\n",
              "        docLink.innerHTML = docLinkHtml;\n",
              "        element.appendChild(docLink);\n",
              "      }\n",
              "    </script>\n",
              "  </div>\n",
              "\n",
              "\n",
              "<div id=\"df-2b15c9d8-fb43-4112-90cd-37f6bbcdcc23\">\n",
              "  <button class=\"colab-df-quickchart\" onclick=\"quickchart('df-2b15c9d8-fb43-4112-90cd-37f6bbcdcc23')\"\n",
              "            title=\"Suggest charts\"\n",
              "            style=\"display:none;\">\n",
              "\n",
              "<svg xmlns=\"http://www.w3.org/2000/svg\" height=\"24px\"viewBox=\"0 0 24 24\"\n",
              "     width=\"24px\">\n",
              "    <g>\n",
              "        <path d=\"M19 3H5c-1.1 0-2 .9-2 2v14c0 1.1.9 2 2 2h14c1.1 0 2-.9 2-2V5c0-1.1-.9-2-2-2zM9 17H7v-7h2v7zm4 0h-2V7h2v10zm4 0h-2v-4h2v4z\"/>\n",
              "    </g>\n",
              "</svg>\n",
              "  </button>\n",
              "\n",
              "<style>\n",
              "  .colab-df-quickchart {\n",
              "      --bg-color: #E8F0FE;\n",
              "      --fill-color: #1967D2;\n",
              "      --hover-bg-color: #E2EBFA;\n",
              "      --hover-fill-color: #174EA6;\n",
              "      --disabled-fill-color: #AAA;\n",
              "      --disabled-bg-color: #DDD;\n",
              "  }\n",
              "\n",
              "  [theme=dark] .colab-df-quickchart {\n",
              "      --bg-color: #3B4455;\n",
              "      --fill-color: #D2E3FC;\n",
              "      --hover-bg-color: #434B5C;\n",
              "      --hover-fill-color: #FFFFFF;\n",
              "      --disabled-bg-color: #3B4455;\n",
              "      --disabled-fill-color: #666;\n",
              "  }\n",
              "\n",
              "  .colab-df-quickchart {\n",
              "    background-color: var(--bg-color);\n",
              "    border: none;\n",
              "    border-radius: 50%;\n",
              "    cursor: pointer;\n",
              "    display: none;\n",
              "    fill: var(--fill-color);\n",
              "    height: 32px;\n",
              "    padding: 0;\n",
              "    width: 32px;\n",
              "  }\n",
              "\n",
              "  .colab-df-quickchart:hover {\n",
              "    background-color: var(--hover-bg-color);\n",
              "    box-shadow: 0 1px 2px rgba(60, 64, 67, 0.3), 0 1px 3px 1px rgba(60, 64, 67, 0.15);\n",
              "    fill: var(--button-hover-fill-color);\n",
              "  }\n",
              "\n",
              "  .colab-df-quickchart-complete:disabled,\n",
              "  .colab-df-quickchart-complete:disabled:hover {\n",
              "    background-color: var(--disabled-bg-color);\n",
              "    fill: var(--disabled-fill-color);\n",
              "    box-shadow: none;\n",
              "  }\n",
              "\n",
              "  .colab-df-spinner {\n",
              "    border: 2px solid var(--fill-color);\n",
              "    border-color: transparent;\n",
              "    border-bottom-color: var(--fill-color);\n",
              "    animation:\n",
              "      spin 1s steps(1) infinite;\n",
              "  }\n",
              "\n",
              "  @keyframes spin {\n",
              "    0% {\n",
              "      border-color: transparent;\n",
              "      border-bottom-color: var(--fill-color);\n",
              "      border-left-color: var(--fill-color);\n",
              "    }\n",
              "    20% {\n",
              "      border-color: transparent;\n",
              "      border-left-color: var(--fill-color);\n",
              "      border-top-color: var(--fill-color);\n",
              "    }\n",
              "    30% {\n",
              "      border-color: transparent;\n",
              "      border-left-color: var(--fill-color);\n",
              "      border-top-color: var(--fill-color);\n",
              "      border-right-color: var(--fill-color);\n",
              "    }\n",
              "    40% {\n",
              "      border-color: transparent;\n",
              "      border-right-color: var(--fill-color);\n",
              "      border-top-color: var(--fill-color);\n",
              "    }\n",
              "    60% {\n",
              "      border-color: transparent;\n",
              "      border-right-color: var(--fill-color);\n",
              "    }\n",
              "    80% {\n",
              "      border-color: transparent;\n",
              "      border-right-color: var(--fill-color);\n",
              "      border-bottom-color: var(--fill-color);\n",
              "    }\n",
              "    90% {\n",
              "      border-color: transparent;\n",
              "      border-bottom-color: var(--fill-color);\n",
              "    }\n",
              "  }\n",
              "</style>\n",
              "\n",
              "  <script>\n",
              "    async function quickchart(key) {\n",
              "      const quickchartButtonEl =\n",
              "        document.querySelector('#' + key + ' button');\n",
              "      quickchartButtonEl.disabled = true;  // To prevent multiple clicks.\n",
              "      quickchartButtonEl.classList.add('colab-df-spinner');\n",
              "      try {\n",
              "        const charts = await google.colab.kernel.invokeFunction(\n",
              "            'suggestCharts', [key], {});\n",
              "      } catch (error) {\n",
              "        console.error('Error during call to suggestCharts:', error);\n",
              "      }\n",
              "      quickchartButtonEl.classList.remove('colab-df-spinner');\n",
              "      quickchartButtonEl.classList.add('colab-df-quickchart-complete');\n",
              "    }\n",
              "    (() => {\n",
              "      let quickchartButtonEl =\n",
              "        document.querySelector('#df-2b15c9d8-fb43-4112-90cd-37f6bbcdcc23 button');\n",
              "      quickchartButtonEl.style.display =\n",
              "        google.colab.kernel.accessAllowed ? 'block' : 'none';\n",
              "    })();\n",
              "  </script>\n",
              "</div>\n",
              "\n",
              "    </div>\n",
              "  </div>\n"
            ]
          },
          "metadata": {},
          "execution_count": 28
        }
      ]
    },
    {
      "cell_type": "code",
      "source": [
        "train.info()"
      ],
      "metadata": {
        "colab": {
          "base_uri": "https://localhost:8080/"
        },
        "id": "O8rrw5sLAuYk",
        "outputId": "2ed99043-6214-45c9-eead-4d88a06105a5"
      },
      "execution_count": 7,
      "outputs": [
        {
          "output_type": "stream",
          "name": "stdout",
          "text": [
            "<class 'pandas.core.frame.DataFrame'>\n",
            "RangeIndex: 23011 entries, 0 to 23010\n",
            "Data columns (total 11 columns):\n",
            " #   Column  Non-Null Count  Dtype  \n",
            "---  ------  --------------  -----  \n",
            " 0   일시      23011 non-null  object \n",
            " 1   최고기온    23008 non-null  float64\n",
            " 2   최저기온    23008 non-null  float64\n",
            " 3   일교차     23007 non-null  float64\n",
            " 4   강수량     9150 non-null   float64\n",
            " 5   평균습도    23011 non-null  float64\n",
            " 6   평균풍속    23007 non-null  float64\n",
            " 7   일조합     22893 non-null  float64\n",
            " 8   일사합     18149 non-null  float64\n",
            " 9   일조율     22645 non-null  float64\n",
            " 10  평균기온    23011 non-null  float64\n",
            "dtypes: float64(10), object(1)\n",
            "memory usage: 1.9+ MB\n"
          ]
        }
      ]
    },
    {
      "cell_type": "code",
      "source": [
        "train.isnull().sum()"
      ],
      "metadata": {
        "colab": {
          "base_uri": "https://localhost:8080/"
        },
        "id": "pUHqci3kBK6O",
        "outputId": "e7f27489-0063-4d1d-aa01-20687728fd07"
      },
      "execution_count": 8,
      "outputs": [
        {
          "output_type": "execute_result",
          "data": {
            "text/plain": [
              "일시          0\n",
              "최고기온        3\n",
              "최저기온        3\n",
              "일교차         4\n",
              "강수량     13861\n",
              "평균습도        0\n",
              "평균풍속        4\n",
              "일조합       118\n",
              "일사합      4862\n",
              "일조율       366\n",
              "평균기온        0\n",
              "dtype: int64"
            ]
          },
          "metadata": {},
          "execution_count": 8
        }
      ]
    },
    {
      "cell_type": "markdown",
      "source": [
        "일조합 : 1년간 일사시간(구름이나 안개 따위에 가려지지 아니하고 햇볕이 실제로 내리쬐는 시간)의 합계  \n",
        "일사합 : 1년간 일사량(태양의 복사 에너지가 땅에 닿는 양)의 합계  \n",
        "일교차 : 최고기온 - 최저기온  \n",
        "일조율 : 햇볕이 내리쬐는 시간 / 햇빛이 떠있는 시간  \n",
        "-> 일조합 시간이 클수록 일조율은 커진다."
      ],
      "metadata": {
        "id": "4SFqqm6bAkSY"
      }
    },
    {
      "cell_type": "markdown",
      "source": [
        "# Preprocessing"
      ],
      "metadata": {
        "id": "q0BXrCjPAdWO"
      }
    },
    {
      "cell_type": "code",
      "source": [
        "# BaseLine Preprocessing\n",
        "\n",
        "# 날짜 데이터 변환\n",
        "train['일시'] = pd.to_datetime(train['일시'])\n",
        "train = train.set_index('일시')\n",
        "\n",
        "# 데이터의 시간 간격 지정\n",
        "train.index.freq = 'D'"
      ],
      "metadata": {
        "id": "KJk3xEHFAdaE"
      },
      "execution_count": 9,
      "outputs": []
    },
    {
      "cell_type": "code",
      "source": [
        "# Preprocessing\n",
        "# 결측치 처리 앞의 값으로 채워서 결측치를 처리하려고 하였으나\n",
        "# 강수량의 경우 결측값이 채워지지 않았고 그 이유는 앞 행이 결측치로 존재했기 때문이다. 따라서 뒤의 값으로 결측치를 채워서 결측치를 처리.\n",
        "\n",
        "nu = ['최고기온', '최저기온', '일교차', '강수량', '평균풍속', '일조합', '일사합', '일조율']\n",
        "for i in nu:\n",
        "  train[i].fillna(method= 'bfill', inplace=True)\n",
        "train.isnull().sum()"
      ],
      "metadata": {
        "colab": {
          "base_uri": "https://localhost:8080/"
        },
        "id": "fiU4GNMiBzzZ",
        "outputId": "9c54e6ee-d653-4d94-d95a-193b37fdf8e0"
      },
      "execution_count": 20,
      "outputs": [
        {
          "output_type": "execute_result",
          "data": {
            "text/plain": [
              "최고기온    0\n",
              "최저기온    0\n",
              "일교차     0\n",
              "강수량     0\n",
              "평균습도    0\n",
              "평균풍속    0\n",
              "일조합     0\n",
              "일사합     0\n",
              "일조율     0\n",
              "평균기온    0\n",
              "dtype: int64"
            ]
          },
          "metadata": {},
          "execution_count": 20
        }
      ]
    },
    {
      "cell_type": "code",
      "source": [
        "train = train.reset_index()\n",
        "train = train.rename(columns={'일시': 'ds', '평균기온': 'y'})"
      ],
      "metadata": {
        "id": "lPL3AFO3Adhh"
      },
      "execution_count": 21,
      "outputs": []
    },
    {
      "cell_type": "code",
      "source": [
        "train.head(5)"
      ],
      "metadata": {
        "colab": {
          "base_uri": "https://localhost:8080/",
          "height": 206
        },
        "id": "3vPz0wCJCjZb",
        "outputId": "c7dfc229-281c-4abd-a20b-3c1fc74fb3dc"
      },
      "execution_count": 22,
      "outputs": [
        {
          "output_type": "execute_result",
          "data": {
            "text/plain": [
              "          ds  최고기온  최저기온   일교차  강수량  평균습도  평균풍속  일조합   일사합   일조율    y\n",
              "0 1960-01-01   2.2  -5.2   7.4  0.4  68.3   1.7  6.7  4.81  28.1 -1.6\n",
              "1 1960-01-02   1.2  -5.6   6.8  0.4  87.7   1.3  0.0  4.81  28.1 -1.9\n",
              "2 1960-01-03   8.7  -2.1  10.8  0.0  81.3   3.0  0.0  4.81  28.1  4.0\n",
              "3 1960-01-04  10.8   1.2   9.6  0.0  79.7   4.4  2.6  4.81  28.1  7.5\n",
              "4 1960-01-05   1.3  -8.2   9.5  0.0  44.0   5.1  8.2  4.81  28.1 -4.6"
            ],
            "text/html": [
              "\n",
              "  <div id=\"df-4b029b66-d5a2-4941-bd8c-093e5544cca0\" class=\"colab-df-container\">\n",
              "    <div>\n",
              "<style scoped>\n",
              "    .dataframe tbody tr th:only-of-type {\n",
              "        vertical-align: middle;\n",
              "    }\n",
              "\n",
              "    .dataframe tbody tr th {\n",
              "        vertical-align: top;\n",
              "    }\n",
              "\n",
              "    .dataframe thead th {\n",
              "        text-align: right;\n",
              "    }\n",
              "</style>\n",
              "<table border=\"1\" class=\"dataframe\">\n",
              "  <thead>\n",
              "    <tr style=\"text-align: right;\">\n",
              "      <th></th>\n",
              "      <th>ds</th>\n",
              "      <th>최고기온</th>\n",
              "      <th>최저기온</th>\n",
              "      <th>일교차</th>\n",
              "      <th>강수량</th>\n",
              "      <th>평균습도</th>\n",
              "      <th>평균풍속</th>\n",
              "      <th>일조합</th>\n",
              "      <th>일사합</th>\n",
              "      <th>일조율</th>\n",
              "      <th>y</th>\n",
              "    </tr>\n",
              "  </thead>\n",
              "  <tbody>\n",
              "    <tr>\n",
              "      <th>0</th>\n",
              "      <td>1960-01-01</td>\n",
              "      <td>2.2</td>\n",
              "      <td>-5.2</td>\n",
              "      <td>7.4</td>\n",
              "      <td>0.4</td>\n",
              "      <td>68.3</td>\n",
              "      <td>1.7</td>\n",
              "      <td>6.7</td>\n",
              "      <td>4.81</td>\n",
              "      <td>28.1</td>\n",
              "      <td>-1.6</td>\n",
              "    </tr>\n",
              "    <tr>\n",
              "      <th>1</th>\n",
              "      <td>1960-01-02</td>\n",
              "      <td>1.2</td>\n",
              "      <td>-5.6</td>\n",
              "      <td>6.8</td>\n",
              "      <td>0.4</td>\n",
              "      <td>87.7</td>\n",
              "      <td>1.3</td>\n",
              "      <td>0.0</td>\n",
              "      <td>4.81</td>\n",
              "      <td>28.1</td>\n",
              "      <td>-1.9</td>\n",
              "    </tr>\n",
              "    <tr>\n",
              "      <th>2</th>\n",
              "      <td>1960-01-03</td>\n",
              "      <td>8.7</td>\n",
              "      <td>-2.1</td>\n",
              "      <td>10.8</td>\n",
              "      <td>0.0</td>\n",
              "      <td>81.3</td>\n",
              "      <td>3.0</td>\n",
              "      <td>0.0</td>\n",
              "      <td>4.81</td>\n",
              "      <td>28.1</td>\n",
              "      <td>4.0</td>\n",
              "    </tr>\n",
              "    <tr>\n",
              "      <th>3</th>\n",
              "      <td>1960-01-04</td>\n",
              "      <td>10.8</td>\n",
              "      <td>1.2</td>\n",
              "      <td>9.6</td>\n",
              "      <td>0.0</td>\n",
              "      <td>79.7</td>\n",
              "      <td>4.4</td>\n",
              "      <td>2.6</td>\n",
              "      <td>4.81</td>\n",
              "      <td>28.1</td>\n",
              "      <td>7.5</td>\n",
              "    </tr>\n",
              "    <tr>\n",
              "      <th>4</th>\n",
              "      <td>1960-01-05</td>\n",
              "      <td>1.3</td>\n",
              "      <td>-8.2</td>\n",
              "      <td>9.5</td>\n",
              "      <td>0.0</td>\n",
              "      <td>44.0</td>\n",
              "      <td>5.1</td>\n",
              "      <td>8.2</td>\n",
              "      <td>4.81</td>\n",
              "      <td>28.1</td>\n",
              "      <td>-4.6</td>\n",
              "    </tr>\n",
              "  </tbody>\n",
              "</table>\n",
              "</div>\n",
              "    <div class=\"colab-df-buttons\">\n",
              "\n",
              "  <div class=\"colab-df-container\">\n",
              "    <button class=\"colab-df-convert\" onclick=\"convertToInteractive('df-4b029b66-d5a2-4941-bd8c-093e5544cca0')\"\n",
              "            title=\"Convert this dataframe to an interactive table.\"\n",
              "            style=\"display:none;\">\n",
              "\n",
              "  <svg xmlns=\"http://www.w3.org/2000/svg\" height=\"24px\" viewBox=\"0 -960 960 960\">\n",
              "    <path d=\"M120-120v-720h720v720H120Zm60-500h600v-160H180v160Zm220 220h160v-160H400v160Zm0 220h160v-160H400v160ZM180-400h160v-160H180v160Zm440 0h160v-160H620v160ZM180-180h160v-160H180v160Zm440 0h160v-160H620v160Z\"/>\n",
              "  </svg>\n",
              "    </button>\n",
              "\n",
              "  <style>\n",
              "    .colab-df-container {\n",
              "      display:flex;\n",
              "      gap: 12px;\n",
              "    }\n",
              "\n",
              "    .colab-df-convert {\n",
              "      background-color: #E8F0FE;\n",
              "      border: none;\n",
              "      border-radius: 50%;\n",
              "      cursor: pointer;\n",
              "      display: none;\n",
              "      fill: #1967D2;\n",
              "      height: 32px;\n",
              "      padding: 0 0 0 0;\n",
              "      width: 32px;\n",
              "    }\n",
              "\n",
              "    .colab-df-convert:hover {\n",
              "      background-color: #E2EBFA;\n",
              "      box-shadow: 0px 1px 2px rgba(60, 64, 67, 0.3), 0px 1px 3px 1px rgba(60, 64, 67, 0.15);\n",
              "      fill: #174EA6;\n",
              "    }\n",
              "\n",
              "    .colab-df-buttons div {\n",
              "      margin-bottom: 4px;\n",
              "    }\n",
              "\n",
              "    [theme=dark] .colab-df-convert {\n",
              "      background-color: #3B4455;\n",
              "      fill: #D2E3FC;\n",
              "    }\n",
              "\n",
              "    [theme=dark] .colab-df-convert:hover {\n",
              "      background-color: #434B5C;\n",
              "      box-shadow: 0px 1px 3px 1px rgba(0, 0, 0, 0.15);\n",
              "      filter: drop-shadow(0px 1px 2px rgba(0, 0, 0, 0.3));\n",
              "      fill: #FFFFFF;\n",
              "    }\n",
              "  </style>\n",
              "\n",
              "    <script>\n",
              "      const buttonEl =\n",
              "        document.querySelector('#df-4b029b66-d5a2-4941-bd8c-093e5544cca0 button.colab-df-convert');\n",
              "      buttonEl.style.display =\n",
              "        google.colab.kernel.accessAllowed ? 'block' : 'none';\n",
              "\n",
              "      async function convertToInteractive(key) {\n",
              "        const element = document.querySelector('#df-4b029b66-d5a2-4941-bd8c-093e5544cca0');\n",
              "        const dataTable =\n",
              "          await google.colab.kernel.invokeFunction('convertToInteractive',\n",
              "                                                    [key], {});\n",
              "        if (!dataTable) return;\n",
              "\n",
              "        const docLinkHtml = 'Like what you see? Visit the ' +\n",
              "          '<a target=\"_blank\" href=https://colab.research.google.com/notebooks/data_table.ipynb>data table notebook</a>'\n",
              "          + ' to learn more about interactive tables.';\n",
              "        element.innerHTML = '';\n",
              "        dataTable['output_type'] = 'display_data';\n",
              "        await google.colab.output.renderOutput(dataTable, element);\n",
              "        const docLink = document.createElement('div');\n",
              "        docLink.innerHTML = docLinkHtml;\n",
              "        element.appendChild(docLink);\n",
              "      }\n",
              "    </script>\n",
              "  </div>\n",
              "\n",
              "\n",
              "<div id=\"df-e9fa08fc-2dd0-417c-bde4-21faa49e32eb\">\n",
              "  <button class=\"colab-df-quickchart\" onclick=\"quickchart('df-e9fa08fc-2dd0-417c-bde4-21faa49e32eb')\"\n",
              "            title=\"Suggest charts\"\n",
              "            style=\"display:none;\">\n",
              "\n",
              "<svg xmlns=\"http://www.w3.org/2000/svg\" height=\"24px\"viewBox=\"0 0 24 24\"\n",
              "     width=\"24px\">\n",
              "    <g>\n",
              "        <path d=\"M19 3H5c-1.1 0-2 .9-2 2v14c0 1.1.9 2 2 2h14c1.1 0 2-.9 2-2V5c0-1.1-.9-2-2-2zM9 17H7v-7h2v7zm4 0h-2V7h2v10zm4 0h-2v-4h2v4z\"/>\n",
              "    </g>\n",
              "</svg>\n",
              "  </button>\n",
              "\n",
              "<style>\n",
              "  .colab-df-quickchart {\n",
              "      --bg-color: #E8F0FE;\n",
              "      --fill-color: #1967D2;\n",
              "      --hover-bg-color: #E2EBFA;\n",
              "      --hover-fill-color: #174EA6;\n",
              "      --disabled-fill-color: #AAA;\n",
              "      --disabled-bg-color: #DDD;\n",
              "  }\n",
              "\n",
              "  [theme=dark] .colab-df-quickchart {\n",
              "      --bg-color: #3B4455;\n",
              "      --fill-color: #D2E3FC;\n",
              "      --hover-bg-color: #434B5C;\n",
              "      --hover-fill-color: #FFFFFF;\n",
              "      --disabled-bg-color: #3B4455;\n",
              "      --disabled-fill-color: #666;\n",
              "  }\n",
              "\n",
              "  .colab-df-quickchart {\n",
              "    background-color: var(--bg-color);\n",
              "    border: none;\n",
              "    border-radius: 50%;\n",
              "    cursor: pointer;\n",
              "    display: none;\n",
              "    fill: var(--fill-color);\n",
              "    height: 32px;\n",
              "    padding: 0;\n",
              "    width: 32px;\n",
              "  }\n",
              "\n",
              "  .colab-df-quickchart:hover {\n",
              "    background-color: var(--hover-bg-color);\n",
              "    box-shadow: 0 1px 2px rgba(60, 64, 67, 0.3), 0 1px 3px 1px rgba(60, 64, 67, 0.15);\n",
              "    fill: var(--button-hover-fill-color);\n",
              "  }\n",
              "\n",
              "  .colab-df-quickchart-complete:disabled,\n",
              "  .colab-df-quickchart-complete:disabled:hover {\n",
              "    background-color: var(--disabled-bg-color);\n",
              "    fill: var(--disabled-fill-color);\n",
              "    box-shadow: none;\n",
              "  }\n",
              "\n",
              "  .colab-df-spinner {\n",
              "    border: 2px solid var(--fill-color);\n",
              "    border-color: transparent;\n",
              "    border-bottom-color: var(--fill-color);\n",
              "    animation:\n",
              "      spin 1s steps(1) infinite;\n",
              "  }\n",
              "\n",
              "  @keyframes spin {\n",
              "    0% {\n",
              "      border-color: transparent;\n",
              "      border-bottom-color: var(--fill-color);\n",
              "      border-left-color: var(--fill-color);\n",
              "    }\n",
              "    20% {\n",
              "      border-color: transparent;\n",
              "      border-left-color: var(--fill-color);\n",
              "      border-top-color: var(--fill-color);\n",
              "    }\n",
              "    30% {\n",
              "      border-color: transparent;\n",
              "      border-left-color: var(--fill-color);\n",
              "      border-top-color: var(--fill-color);\n",
              "      border-right-color: var(--fill-color);\n",
              "    }\n",
              "    40% {\n",
              "      border-color: transparent;\n",
              "      border-right-color: var(--fill-color);\n",
              "      border-top-color: var(--fill-color);\n",
              "    }\n",
              "    60% {\n",
              "      border-color: transparent;\n",
              "      border-right-color: var(--fill-color);\n",
              "    }\n",
              "    80% {\n",
              "      border-color: transparent;\n",
              "      border-right-color: var(--fill-color);\n",
              "      border-bottom-color: var(--fill-color);\n",
              "    }\n",
              "    90% {\n",
              "      border-color: transparent;\n",
              "      border-bottom-color: var(--fill-color);\n",
              "    }\n",
              "  }\n",
              "</style>\n",
              "\n",
              "  <script>\n",
              "    async function quickchart(key) {\n",
              "      const quickchartButtonEl =\n",
              "        document.querySelector('#' + key + ' button');\n",
              "      quickchartButtonEl.disabled = true;  // To prevent multiple clicks.\n",
              "      quickchartButtonEl.classList.add('colab-df-spinner');\n",
              "      try {\n",
              "        const charts = await google.colab.kernel.invokeFunction(\n",
              "            'suggestCharts', [key], {});\n",
              "      } catch (error) {\n",
              "        console.error('Error during call to suggestCharts:', error);\n",
              "      }\n",
              "      quickchartButtonEl.classList.remove('colab-df-spinner');\n",
              "      quickchartButtonEl.classList.add('colab-df-quickchart-complete');\n",
              "    }\n",
              "    (() => {\n",
              "      let quickchartButtonEl =\n",
              "        document.querySelector('#df-e9fa08fc-2dd0-417c-bde4-21faa49e32eb button');\n",
              "      quickchartButtonEl.style.display =\n",
              "        google.colab.kernel.accessAllowed ? 'block' : 'none';\n",
              "    })();\n",
              "  </script>\n",
              "</div>\n",
              "\n",
              "    </div>\n",
              "  </div>\n"
            ]
          },
          "metadata": {},
          "execution_count": 22
        }
      ]
    },
    {
      "cell_type": "markdown",
      "source": [
        "# modeling"
      ],
      "metadata": {
        "id": "93JIPEeaCp7w"
      }
    },
    {
      "cell_type": "code",
      "source": [
        "# Base prophet모델\n",
        "prophet = Prophet()\n",
        "prophet.fit(train)"
      ],
      "metadata": {
        "id": "a5m4KrFGSZ3s"
      },
      "execution_count": null,
      "outputs": []
    },
    {
      "cell_type": "code",
      "source": [
        "# predict\n",
        "future_data = prophet.make_future_dataframe(periods = len(submission), freq = 'd')\n",
        "forecast_data = prophet.predict(future_data)\n",
        "\n",
        "# submission\n",
        "submission['평균기온'] = forecast_data.yhat[-len(submission):].values\n",
        "# submission.to_csv(\"prophet_submission.csv\", index=False)\n",
        "print(submission.tail(5))"
      ],
      "metadata": {
        "colab": {
          "base_uri": "https://localhost:8080/"
        },
        "id": "QTpGJbJCAdlL",
        "outputId": "b00b0cf3-aa95-419f-c627-81c55f464b82"
      },
      "execution_count": 23,
      "outputs": [
        {
          "output_type": "stream",
          "name": "stderr",
          "text": [
            "INFO:prophet:Disabling daily seasonality. Run prophet with daily_seasonality=True to override this.\n",
            "DEBUG:cmdstanpy:input tempfile: /tmp/tmpeolr8yat/ngqfzwus.json\n",
            "DEBUG:cmdstanpy:input tempfile: /tmp/tmpeolr8yat/qebk10uz.json\n",
            "DEBUG:cmdstanpy:idx 0\n",
            "DEBUG:cmdstanpy:running CmdStan, num_threads: None\n",
            "DEBUG:cmdstanpy:CmdStan args: ['/usr/local/lib/python3.10/dist-packages/prophet/stan_model/prophet_model.bin', 'random', 'seed=58053', 'data', 'file=/tmp/tmpeolr8yat/ngqfzwus.json', 'init=/tmp/tmpeolr8yat/qebk10uz.json', 'output', 'file=/tmp/tmpeolr8yat/prophet_modelnac9_qs9/prophet_model-20240102071910.csv', 'method=optimize', 'algorithm=lbfgs', 'iter=10000']\n",
            "07:19:10 - cmdstanpy - INFO - Chain [1] start processing\n",
            "INFO:cmdstanpy:Chain [1] start processing\n",
            "07:19:15 - cmdstanpy - INFO - Chain [1] done processing\n",
            "INFO:cmdstanpy:Chain [1] done processing\n"
          ]
        },
        {
          "output_type": "stream",
          "name": "stdout",
          "text": [
            "             일시      평균기온\n",
            "353  2023-12-20  0.400586\n",
            "354  2023-12-21  0.293537\n",
            "355  2023-12-22  0.161249\n",
            "356  2023-12-23  0.096136\n",
            "357  2023-12-24 -0.091857\n"
          ]
        }
      ]
    },
    {
      "cell_type": "markdown",
      "source": [
        "> 2000년도 이후 데이터를 사용한 예측시도"
      ],
      "metadata": {
        "id": "H-7mklOwAdso"
      }
    },
    {
      "cell_type": "code",
      "source": [
        "train = pd.read_csv('/content/drive/MyDrive/기온/train.csv')\n",
        "submission = pd.read_csv('/content/drive/MyDrive/기온/sample_submission.csv')"
      ],
      "metadata": {
        "id": "vKawWob4Adv-"
      },
      "execution_count": 29,
      "outputs": []
    },
    {
      "cell_type": "code",
      "source": [
        "# BaseLine Preprocessing\n",
        "\n",
        "# 날짜 데이터 변환\n",
        "train['일시'] = pd.to_datetime(train['일시'])\n",
        "train = train.set_index('일시')\n",
        "\n",
        "# 데이터의 시간 간격 지정\n",
        "train.index.freq = 'D'\n",
        "\n",
        "# Preprocessing\n",
        "# 결측치 처리 앞의 값으로 채워서 결측치를 처리하려고 하였으나\n",
        "# 강수량의 경우 결측값이 채워지지 않았고 그 이유는 앞 행이 결측치로 존재했기 때문이다. 따라서 뒤의 값으로 결측치를 채워서 결측치를 처리.\n",
        "\n",
        "nu = ['최고기온', '최저기온', '일교차', '강수량', '평균풍속', '일조합', '일사합', '일조율']\n",
        "for i in nu:\n",
        "  train[i].fillna(method= 'bfill', inplace=True)\n",
        "train.isnull().sum()"
      ],
      "metadata": {
        "colab": {
          "base_uri": "https://localhost:8080/"
        },
        "id": "wG7ga21EAdzQ",
        "outputId": "faf077bf-2ade-4712-c838-62770374ce83"
      },
      "execution_count": 30,
      "outputs": [
        {
          "output_type": "execute_result",
          "data": {
            "text/plain": [
              "최고기온    0\n",
              "최저기온    0\n",
              "일교차     0\n",
              "강수량     0\n",
              "평균습도    0\n",
              "평균풍속    0\n",
              "일조합     0\n",
              "일사합     0\n",
              "일조율     0\n",
              "평균기온    0\n",
              "dtype: int64"
            ]
          },
          "metadata": {},
          "execution_count": 30
        }
      ]
    },
    {
      "cell_type": "code",
      "source": [
        "train = train.reset_index()\n",
        "train = train.rename(columns={'일시': 'ds', '평균기온': 'y'})"
      ],
      "metadata": {
        "id": "x6uhN7h5SyQe"
      },
      "execution_count": 31,
      "outputs": []
    },
    {
      "cell_type": "code",
      "source": [
        "train = train[train['ds'] > '\t2000-01-01']"
      ],
      "metadata": {
        "id": "bbyyzFRRS2HH"
      },
      "execution_count": 32,
      "outputs": []
    },
    {
      "cell_type": "code",
      "source": [
        "pip install optuna"
      ],
      "metadata": {
        "colab": {
          "base_uri": "https://localhost:8080/"
        },
        "id": "KEO4JdlNTC-o",
        "outputId": "1cd0dcf0-6262-4a14-ec32-f5b9e3e0dd14"
      },
      "execution_count": 33,
      "outputs": [
        {
          "output_type": "stream",
          "name": "stdout",
          "text": [
            "Collecting optuna\n",
            "  Downloading optuna-3.5.0-py3-none-any.whl (413 kB)\n",
            "\u001b[2K     \u001b[90m━━━━━━━━━━━━━━━━━━━━━━━━━━━━━━━━━━━━━━━━\u001b[0m \u001b[32m413.4/413.4 kB\u001b[0m \u001b[31m5.0 MB/s\u001b[0m eta \u001b[36m0:00:00\u001b[0m\n",
            "\u001b[?25hCollecting alembic>=1.5.0 (from optuna)\n",
            "  Downloading alembic-1.13.1-py3-none-any.whl (233 kB)\n",
            "\u001b[2K     \u001b[90m━━━━━━━━━━━━━━━━━━━━━━━━━━━━━━━━━━━━━━━━\u001b[0m \u001b[32m233.4/233.4 kB\u001b[0m \u001b[31m7.4 MB/s\u001b[0m eta \u001b[36m0:00:00\u001b[0m\n",
            "\u001b[?25hCollecting colorlog (from optuna)\n",
            "  Downloading colorlog-6.8.0-py3-none-any.whl (11 kB)\n",
            "Requirement already satisfied: numpy in /usr/local/lib/python3.10/dist-packages (from optuna) (1.23.5)\n",
            "Requirement already satisfied: packaging>=20.0 in /usr/local/lib/python3.10/dist-packages (from optuna) (23.2)\n",
            "Requirement already satisfied: sqlalchemy>=1.3.0 in /usr/local/lib/python3.10/dist-packages (from optuna) (2.0.23)\n",
            "Requirement already satisfied: tqdm in /usr/local/lib/python3.10/dist-packages (from optuna) (4.66.1)\n",
            "Requirement already satisfied: PyYAML in /usr/local/lib/python3.10/dist-packages (from optuna) (6.0.1)\n",
            "Collecting Mako (from alembic>=1.5.0->optuna)\n",
            "  Downloading Mako-1.3.0-py3-none-any.whl (78 kB)\n",
            "\u001b[2K     \u001b[90m━━━━━━━━━━━━━━━━━━━━━━━━━━━━━━━━━━━━━━━━\u001b[0m \u001b[32m78.6/78.6 kB\u001b[0m \u001b[31m8.2 MB/s\u001b[0m eta \u001b[36m0:00:00\u001b[0m\n",
            "\u001b[?25hRequirement already satisfied: typing-extensions>=4 in /usr/local/lib/python3.10/dist-packages (from alembic>=1.5.0->optuna) (4.5.0)\n",
            "Requirement already satisfied: greenlet!=0.4.17 in /usr/local/lib/python3.10/dist-packages (from sqlalchemy>=1.3.0->optuna) (3.0.2)\n",
            "Requirement already satisfied: MarkupSafe>=0.9.2 in /usr/local/lib/python3.10/dist-packages (from Mako->alembic>=1.5.0->optuna) (2.1.3)\n",
            "Installing collected packages: Mako, colorlog, alembic, optuna\n",
            "Successfully installed Mako-1.3.0 alembic-1.13.1 colorlog-6.8.0 optuna-3.5.0\n"
          ]
        }
      ]
    },
    {
      "cell_type": "code",
      "source": [
        "import optuna\n",
        "from prophet import Prophet\n",
        "from sklearn.metrics import mean_absolute_error\n",
        "\n",
        "def objective(trial):\n",
        "    # Prophet\n",
        "    model = Prophet(\n",
        "        changepoint_prior_scale=trial.suggest_loguniform('changepoint_prior_scale', 0.001, 0.5),\n",
        "        seasonality_prior_scale=trial.suggest_loguniform('seasonality_prior_scale', 0.1, 100.0),\n",
        "        interval_width=trial.suggest_uniform('interval_width', 0.7, 0.9)\n",
        "    )\n",
        "\n",
        "    # training\n",
        "    model.fit(train)\n",
        "\n",
        "    # validation set -> 2022년도 1년치 데이터\n",
        "    valid = train.tail(365)\n",
        "\n",
        "    # 목적 함수 (검증 세트에 대한 MAE 최소화)\n",
        "    y_true = valid['y'].values\n",
        "    forecast = model.predict(valid[['ds']])\n",
        "    y_pred = forecast['yhat'].values\n",
        "\n",
        "    mae = mean_absolute_error(y_true, y_pred)\n",
        "    return mae\n",
        "\n",
        "# Optuna 최적화 수행\n",
        "study = optuna.create_study(direction='minimize')\n",
        "study.optimize(objective, n_trials=50)\n",
        "\n",
        "# 최적 파라미터 출력\n",
        "print('Best trial:')\n",
        "trial = study.best_trial\n",
        "print('Value: {:.4f}'.format(trial.value))\n",
        "print('Params: ')\n",
        "for key, value in trial.params.items():\n",
        "    print('{}: {}'.format(key, value))\n"
      ],
      "metadata": {
        "id": "X1rkew9wTF7i"
      },
      "execution_count": null,
      "outputs": []
    },
    {
      "cell_type": "code",
      "source": [
        "optimal_params = {\n",
        "    'changepoint_prior_scale': study.best_params['changepoint_prior_scale'],\n",
        "    'seasonality_prior_scale': study.best_params['seasonality_prior_scale'],\n",
        "    'interval_width': study.best_params['interval_width'],\n",
        "}\n",
        "\n",
        "model = Prophet(**optimal_params)\n",
        "model.fit(train)"
      ],
      "metadata": {
        "colab": {
          "base_uri": "https://localhost:8080/"
        },
        "id": "AuXGHT1zTZ68",
        "outputId": "58df7a8b-d2ce-43a8-805b-cbac2948da9f"
      },
      "execution_count": 35,
      "outputs": [
        {
          "output_type": "stream",
          "name": "stderr",
          "text": [
            "INFO:prophet:Disabling daily seasonality. Run prophet with daily_seasonality=True to override this.\n",
            "DEBUG:cmdstanpy:input tempfile: /tmp/tmpeolr8yat/0yjdg2co.json\n",
            "DEBUG:cmdstanpy:input tempfile: /tmp/tmpeolr8yat/2nmkjo5n.json\n",
            "DEBUG:cmdstanpy:idx 0\n",
            "DEBUG:cmdstanpy:running CmdStan, num_threads: None\n",
            "DEBUG:cmdstanpy:CmdStan args: ['/usr/local/lib/python3.10/dist-packages/prophet/stan_model/prophet_model.bin', 'random', 'seed=71176', 'data', 'file=/tmp/tmpeolr8yat/0yjdg2co.json', 'init=/tmp/tmpeolr8yat/2nmkjo5n.json', 'output', 'file=/tmp/tmpeolr8yat/prophet_modeli6ot14i7/prophet_model-20240102083547.csv', 'method=optimize', 'algorithm=lbfgs', 'iter=10000']\n",
            "08:35:47 - cmdstanpy - INFO - Chain [1] start processing\n",
            "INFO:cmdstanpy:Chain [1] start processing\n",
            "08:35:48 - cmdstanpy - INFO - Chain [1] done processing\n",
            "INFO:cmdstanpy:Chain [1] done processing\n"
          ]
        },
        {
          "output_type": "execute_result",
          "data": {
            "text/plain": [
              "<prophet.forecaster.Prophet at 0x7c4161dcf4c0>"
            ]
          },
          "metadata": {},
          "execution_count": 35
        }
      ]
    },
    {
      "cell_type": "code",
      "source": [
        "# predict\n",
        "future_data = model.make_future_dataframe(periods = len(submission), freq = 'd')\n",
        "forecast_data = model.predict(future_data)\n",
        "\n",
        "# submission\n",
        "submission['평균기온'] = forecast_data.yhat[-len(submission):].values\n",
        "# submission.to_csv(\"prophet_submission2.csv\", index=False)\n",
        "print(submission.tail(5))"
      ],
      "metadata": {
        "id": "sTPy-q3vTbt5"
      },
      "execution_count": 37,
      "outputs": []
    }
  ]
}